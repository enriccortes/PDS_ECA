{
 "cells": [
  {
   "cell_type": "markdown",
   "metadata": {},
   "source": [
    "Exercise 1: FizzBuzz\n",
    "1. Write a FizzBuzz Function: Create a function fizzbuzz(n) that takes an integer n as a parameter.\n",
    "2. Implement FizzBuzz Logic: The function should print:\n",
    "- \"Fizz\" for multiples of 3\n",
    "- \"Buzz\" for multiples of 5\n",
    "- \"FizzBuzz\" for multiples of both 3 and 5\n",
    "- The number itself for other numbers\n",
    "3. Call the Function: Call the function for numbers 1 to 20."
   ]
  },
  {
   "cell_type": "code",
   "execution_count": 6,
   "metadata": {},
   "outputs": [
    {
     "name": "stdout",
     "output_type": "stream",
     "text": [
      "Fizz\n",
      "1\n",
      "2\n",
      "Fizz\n",
      "4\n",
      "Buzz\n",
      "Fizz\n",
      "7\n",
      "8\n",
      "Fizz\n",
      "Buzz\n",
      "11\n",
      "Fizz\n",
      "13\n",
      "14\n",
      "Fizz\n",
      "16\n",
      "17\n",
      "Fizz\n",
      "19\n",
      "Buzz\n"
     ]
    }
   ],
   "source": [
    "# 1\n",
    "def fizzbuzz(n):\n",
    "# 2\n",
    "    for number in range(21):\n",
    "        if number % 3 == 0:\n",
    "            print('Fizz')\n",
    "        elif number % 5 == 0:\n",
    "            print('Buzz')\n",
    "        elif number % 3 == 0 and number % 5:\n",
    "            print('FizzBuzz')\n",
    "        else:\n",
    "            print(number)\n",
    "# 3\n",
    "fizzbuzz(20)\n",
    "    \n"
   ]
  },
  {
   "cell_type": "markdown",
   "metadata": {},
   "source": [
    "Exercise 2: Basic Data Filtering\n",
    "1. Create a List of Mixed Data Types: Create a list that contains a mix of integers, strings, and floats.\n",
    "2. Filter the List: Use list comprehension to create a new list that contains only the integers from the original list.\n",
    "3. Print the New List: Output the filtered list of integers."
   ]
  },
  {
   "cell_type": "code",
   "execution_count": 5,
   "metadata": {},
   "outputs": [
    {
     "name": "stdout",
     "output_type": "stream",
     "text": [
      "[1]\n"
     ]
    }
   ],
   "source": [
    "# 1\n",
    "mdt = [1, 'Esade', 3.5]\n",
    "\n",
    "# 2\n",
    "mdt_2 = [x for x in mdt if type(x)== int]\n",
    "\n",
    "# 3\n",
    "print(mdt_2)"
   ]
  },
  {
   "cell_type": "markdown",
   "metadata": {},
   "source": [
    "Exercise 3: Simple To-Do List\n",
    "1. Create an Empty List: Start with an empty list called todo_list.\n",
    "2. Define Functions:\n",
    "- A function add_task(task) that adds a task to the list.\n",
    "- A function show_tasks() that prints all tasks in the list."
   ]
  },
  {
   "cell_type": "code",
   "execution_count": 16,
   "metadata": {},
   "outputs": [
    {
     "name": "stdout",
     "output_type": "stream",
     "text": [
      " - Pay Chatgpt prenium\n",
      " - Do Python Homework\n",
      "<function show_tasks at 0x104de67a0>\n"
     ]
    }
   ],
   "source": [
    "# 1\n",
    "todo_list = []\n",
    "# 2\n",
    "def add_task(task):\n",
    "    todo_list.append(task)\n",
    "    print(f' - {task}')\n",
    "# 3\n",
    "def show_tasks():\n",
    "    return print(todo_list)\n",
    "\n",
    "add_task(\"Pay Chatgpt prenium\")\n",
    "add_task(\"Do Python Homework\")\n",
    "\n",
    "print(show_tasks)"
   ]
  },
  {
   "cell_type": "markdown",
   "metadata": {},
   "source": [
    "Exercise 4: Temperature Converter\n",
    "1. Define a Conversion Function: Write a function celsius_to_fahrenheit(celsius) that converts Celsius to Fahrenheit.\n",
    "2. Print the Result: Output the converted temperature for 22oF, 46oF, 51oF and 76oF."
   ]
  },
  {
   "cell_type": "code",
   "execution_count": 23,
   "metadata": {},
   "outputs": [
    {
     "name": "stdout",
     "output_type": "stream",
     "text": [
      "-5.56ºC\n",
      "7.78ºC\n",
      "10.56ºC\n",
      "24.44ºC\n"
     ]
    }
   ],
   "source": [
    "# 1 \n",
    "def celsius_to_fahrenheit(celsius):\n",
    "    return (celsius * 9 / 5) + 32\n",
    "\n",
    "# 2\n",
    "temperatures = [22, 46, 51, 76]\n",
    "fahrenheit_to_celsius = [(f - 32)* 5 / 9 for f in temperatures]\n",
    "\n",
    "for temp in fahrenheit_to_celsius:\n",
    "    print(f'{temp:.2f}ºC')\n"
   ]
  }
 ],
 "metadata": {
  "kernelspec": {
   "display_name": ".conda",
   "language": "python",
   "name": "python3"
  },
  "language_info": {
   "codemirror_mode": {
    "name": "ipython",
    "version": 3
   },
   "file_extension": ".py",
   "mimetype": "text/x-python",
   "name": "python",
   "nbconvert_exporter": "python",
   "pygments_lexer": "ipython3",
   "version": "3.12.4"
  }
 },
 "nbformat": 4,
 "nbformat_minor": 2
}
