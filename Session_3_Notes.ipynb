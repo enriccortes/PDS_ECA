{
 "cells": [
  {
   "cell_type": "code",
   "execution_count": null,
   "metadata": {},
   "outputs": [],
   "source": []
  },
  {
   "cell_type": "markdown",
   "metadata": {},
   "source": [
    "Com + shift + p command for the search bar in github\n",
    "Select Kernel top right corner\n",
    "readme file necessary for uploading assigments. Using hashtags to explain the steps\n",
    "\n",
    "do the course in datacamp\n",
    "1. working directory: git add \n",
    "2. staging area: git commit\n",
    "3. localrepo: git push\n",
    "4. remote repo\n",
    "- git checkout to get the last version you uploaded to github\n",
    "\n",
    "Github Desktop: Slides\n",
    "U (untrucked) \n",
    "learn how to do branches in github\n",
    " \n",
    "\n",
    "\n",
    "\n"
   ]
  },
  {
   "cell_type": "markdown",
   "metadata": {},
   "source": [
    "Object Oriented Programming\n",
    "1. Classes and Objects\n",
    "2. Abstraction and Inheritance\n",
    "3. Polymorphysim and encapsulation\n",
    "\n",
    "- Main concepts: Class, object, attributes and methods\n",
    "\n",
    "\n"
   ]
  }
 ],
 "metadata": {
  "kernelspec": {
   "display_name": ".conda",
   "language": "python",
   "name": "python3"
  },
  "language_info": {
   "name": "python",
   "version": "3.12.7"
  }
 },
 "nbformat": 4,
 "nbformat_minor": 2
}
