{
 "cells": [
  {
   "cell_type": "markdown",
   "metadata": {},
   "source": [
    "Use double brackets in Sklearn because its waiting a dataframe and it's prepared to transform more thena one column.\n",
    "categories = [[cat1, cat2, cat3,...][A, B, C,....]]\n",
    "X = [[c1,c2]]\n",
    "Output is going to be that categories will be a dataframe with two columns. \n",
    "sparse_output is needed to have a better visualisation of the dataframe when asked. If you don't code it when you ask for the visualization wou will have a difficult \n",
    "\n",
    "Pipelines:\n"
   ]
  },
  {
   "cell_type": "markdown",
   "metadata": {},
   "source": [
    "Simple guide about GIT commands: https://rogerdudler.github.io/git-guide/\n"
   ]
  },
  {
   "cell_type": "markdown",
   "metadata": {},
   "source": [
    "- Functions are a reusable block of code that performs a specific task. Functions in Python are defined using the def keyword, followed by the function name, a list of parameters in parentheses, and the function body,\n",
    "which contains the instructions the function will execute.\n",
    "\n",
    "- Objects: Could be a list, dictionary, tuple,...\n",
    "\n",
    "- Methods: This are functions associated with an object. Methods are used with a '.' between the object and the function to manipulate and interact with the object. Example: list.append() (this is used to add elements to a list)\n",
    "\n",
    "- Arguments are the values you use in methods and functions."
   ]
  },
  {
   "cell_type": "code",
   "execution_count": 36,
   "metadata": {},
   "outputs": [
    {
     "name": "stdout",
     "output_type": "stream",
     "text": [
      "Hello, Enric!\n"
     ]
    }
   ],
   "source": [
    "# Example of a function\n",
    "\n",
    "def greet(name):\n",
    "    message = f\"Hello, {name}!\"\n",
    "    return message\n",
    "\n",
    "# def: Indicates that a function is being identified\n",
    "# greet: The identifier used to call the function\n",
    "# name: These are the values the the function can receive. You can have multiple values\n",
    "# return: The function returning a value\n",
    "\n",
    "result = greet('Enric')\n",
    "print(result)"
   ]
  },
  {
   "cell_type": "code",
   "execution_count": 6,
   "metadata": {},
   "outputs": [
    {
     "data": {
      "text/plain": [
       "6"
      ]
     },
     "execution_count": 6,
     "metadata": {},
     "output_type": "execute_result"
    }
   ],
   "source": [
    "# Basic Functions:\n",
    "numbers = [1,2,3,4,5,6,]\n",
    "# Length function\n",
    "len(numbers)\n",
    "\n",
    "# Adding numbers\n",
    "sum(numbers)\n",
    "\n",
    "# Minimum numbers\n",
    "min(numbers)\n",
    "\n",
    "# Maximum numbers\n",
    "max(numbers)\n",
    "\n",
    "# 'Type' to know the type character we are using\n",
    "type(5)\n",
    "\n",
    "# 'Sorted' to order the characters of a list\n",
    "sorted(numbers)\n",
    "\n",
    "\n",
    "\n",
    "\n"
   ]
  },
  {
   "cell_type": "code",
   "execution_count": 40,
   "metadata": {},
   "outputs": [
    {
     "name": "stdout",
     "output_type": "stream",
     "text": [
      "Eres un abuelo\n"
     ]
    }
   ],
   "source": [
    "# Example of a basic conditional with if, elif and else\n",
    "def age_test(age):\n",
    "    if age < 18:\n",
    "        return 'Eres menor de edad'\n",
    "    elif age >= 18 and age < 65:\n",
    "        return 'Eres un adulto'\n",
    "    else:\n",
    "        return 'Eres un abuelo'\n",
    "\n",
    "Enric = age_test(76)\n",
    "print(Enric)\n",
    "\n",
    "# elif is used for multiple conditions"
   ]
  },
  {
   "cell_type": "code",
   "execution_count": 2,
   "metadata": {},
   "outputs": [
    {
     "name": "stdout",
     "output_type": "stream",
     "text": [
      "hello world\n"
     ]
    }
   ],
   "source": [
    "print(\"hello world\")"
   ]
  },
  {
   "cell_type": "code",
   "execution_count": 7,
   "metadata": {},
   "outputs": [
    {
     "data": {
      "text/plain": [
       "'True'"
      ]
     },
     "execution_count": 7,
     "metadata": {},
     "output_type": "execute_result"
    }
   ],
   "source": [
    "student_name = \"Amelie\" #String\n",
    "age = 24 #Integer\n",
    "Height = 1.67 #float\n",
    "friends = [\"Martina\", \"Pedro\", \"Javi\"] #List\n",
    "\"True\" or \"False\" #Boolean"
   ]
  },
  {
   "cell_type": "code",
   "execution_count": 5,
   "metadata": {},
   "outputs": [
    {
     "name": "stdout",
     "output_type": "stream",
     "text": [
      "\n",
      "    Amelie:\n",
      "        - Age: 24\n",
      "        - Height: 1.67\n",
      "\n"
     ]
    }
   ],
   "source": [
    "# Creating a Header out of Strings\n",
    "student_info = '''\n",
    "    Amelie:\n",
    "        - Age: 24\n",
    "        - Height: 1.67\n",
    "'''\n",
    "print(student_info)"
   ]
  },
  {
   "cell_type": "code",
   "execution_count": 10,
   "metadata": {},
   "outputs": [
    {
     "name": "stdout",
     "output_type": "stream",
     "text": [
      "Hello Amelie\n",
      "My name is Alice and I'm 24 years old\n"
     ]
    }
   ],
   "source": [
    "# Printing Variables \n",
    "print(f'Hello {student_name}')\n",
    "name = 'Alice'\n",
    "print(f\"My name is {name} and I'm {age} years old\")"
   ]
  },
  {
   "cell_type": "markdown",
   "metadata": {},
   "source": [
    "There are four basic types of lists:\n",
    "List: Mutable(They can be modified by adding and removing)\n",
    "Dictionary: Mutable(They can be modified by adding and removing)\n",
    "Set: Mutable(They can be modified by adding and removing)\n",
    "Tuple: Inmutable(They cannot be changed)"
   ]
  },
  {
   "cell_type": "code",
   "execution_count": 9,
   "metadata": {},
   "outputs": [
    {
     "name": "stdout",
     "output_type": "stream",
     "text": [
      "['ESADE', 'UAB', 'UIC', 'UB']\n",
      "['1', '2', '3', '4', '5', '6', '7', '8', '9', '0']\n",
      "['Iphone', 'Iphone', 'Iphone', 'Iphone', 'Iphone']\n",
      "['VilasVilasVilasVilasVilas']\n"
     ]
    }
   ],
   "source": [
    "# Ways of creating lists\n",
    "\n",
    "# Using square brackets\n",
    "universities = ['ESADE', 'UAB', 'UIC', 'UB']\n",
    "print(universities)\n",
    "\n",
    "# Calling list() method\n",
    "numbers = list('1234567890')\n",
    "print(numbers)\n",
    "\n",
    "# List comprehension\n",
    "smartphone = ['Iphone' for _ in range(5)]\n",
    "# In this case 'for in' is creating a loop ten times\n",
    "print(smartphone)\n",
    "\n",
    "# List multiplication \n",
    "water = ['Vilas' * 5]\n",
    "print(water)\n",
    "\n"
   ]
  },
  {
   "cell_type": "code",
   "execution_count": null,
   "metadata": {},
   "outputs": [],
   "source": [
    "# Adding, removing and modifying elements to a list\n",
    "# Adding\n",
    "universities.append ('ICADE')\n",
    "universities = universities + [IQS]\n",
    "universities += ['UAB']\n",
    "universities.extend(['UIB'])\n",
    "# Removing\n",
    "universities.pop(4)\n",
    "universities.remove('IQS')"
   ]
  },
  {
   "cell_type": "code",
   "execution_count": 34,
   "metadata": {},
   "outputs": [
    {
     "name": "stdout",
     "output_type": "stream",
     "text": [
      "{'ESADE': 2024, 'UB': 1978}\n",
      "{'ESADE': {'students': 400, 'professors': 11}}\n",
      "{'ESADE': 2}\n"
     ]
    }
   ],
   "source": [
    "# Dictionaries are pair that contain keys and values. That's the difference with lists\n",
    "\n",
    "# Example of a dictionary\n",
    "dict_uni = {'ESADE': 1958, 'UAB': 1968}\n",
    "\n",
    "# There can be dictionaries more complex\n",
    "dict_uni2 = {'ESADE':{'students': 350,\n",
    "                      'professors': 10},\n",
    "             'UAB':{'students': 420,\n",
    "                    'professors': 12}\n",
    "            }\n",
    "# From a list or tuples\n",
    "dict_uni3 = dict([('ESADE', 2) for num in range (10)])\n",
    "\n",
    "# Adding elements to a dictionary\n",
    "dict_uni['UB'] = 1978\n",
    "\n",
    "# Updating information in the dictionary \n",
    "dict_uni2.update({'ESADE':{'students': 400,\n",
    "                      'professors': 11}})\n",
    "\n",
    "# Removing elements from a dictionary\n",
    "dict_uni.pop('UAB')\n",
    "\n",
    "# Erases only the last element added\n",
    "dict_uni2.popitem()\n",
    "\n",
    "# Modifying elements \n",
    "dict_uni['ESADE'] = 2024\n",
    "\n",
    "print(dict_uni)\n",
    "print(dict_uni2)\n",
    "print(dict_uni3)"
   ]
  },
  {
   "cell_type": "code",
   "execution_count": 41,
   "metadata": {},
   "outputs": [
    {
     "name": "stdout",
     "output_type": "stream",
     "text": [
      "1\n",
      "2\n"
     ]
    }
   ],
   "source": [
    "# Tuples are inmutable, once we create them we can't modify them\n",
    "uni_tuple = ('ESADE', 'UIC', 'IQS', 'Lasalle')\n",
    "\n",
    "# Tuples only have two methods, Counts and Index\n",
    "\n",
    "# Count: TO count if there are repetitions of a value in a tuple\n",
    "count = uni_tuple.count('ESADE')\n",
    "print(count)\n",
    "\n",
    "# Index: It's used to find the position of a value in a tuple. Also you can put a start of the search and an end of the search (value, start, finish)\n",
    "index = uni_tuple.index('IQS')\n",
    "print(index)"
   ]
  },
  {
   "cell_type": "markdown",
   "metadata": {},
   "source": [
    "In Python, a set is a built-in data type that stores an unordered collection of unique elements. Sets are useful when you need to store a group of items without duplicates and don't care about the order of the elements.\n",
    "\n",
    "Key Features of Sets:\n",
    "- Unordered: The elements in a set are stored in no particular order, so you can't access elements by index.\n",
    "- Unique Elements: Sets automatically remove any duplicate elements. Every item in a set must be unique.\n",
    "- Mutable: Sets are mutable, meaning you can add or remove elements after the set is created.\n",
    "- No Indexing: Since sets are unordered, they don’t support indexing, slicing, or other sequence-like behavior."
   ]
  },
  {
   "cell_type": "code",
   "execution_count": 42,
   "metadata": {},
   "outputs": [
    {
     "name": "stdout",
     "output_type": "stream",
     "text": [
      "{1, 2, 3, 4}\n",
      "{1, 2, 3, 5, 6}\n"
     ]
    }
   ],
   "source": [
    "# Two ways to create a set \n",
    "# First way\n",
    "my_set = {1,2,4,3,4}\n",
    "print(my_set)\n",
    "\n",
    "# Second way\n",
    "my_set2 = {1,3,3,5,6,2}\n",
    "print(my_set2)\n",
    "\n",
    "# As you can see sets return and ordered and non repetitive values"
   ]
  },
  {
   "cell_type": "code",
   "execution_count": 50,
   "metadata": {},
   "outputs": [
    {
     "name": "stdout",
     "output_type": "stream",
     "text": [
      "{1, 2, 3, 4, '8', 7}\n",
      "{1, 2, 3, 4, '8'}\n"
     ]
    }
   ],
   "source": [
    "# Adding Elements to a Set \n",
    "my_set.add(7)\n",
    "print(my_set)\n",
    "\n",
    "# Removing elements. We can use remove or discard\n",
    "my_set.remove(7)\n",
    "print(my_set)\n"
   ]
  },
  {
   "cell_type": "markdown",
   "metadata": {},
   "source": [
    "A while loop repeats a block of code as long as a given condition is true. It's used when you don’t know how many times you need to loop ahead of time, but you want to continue looping until some condition is met.\n",
    "How it works:\n",
    "\n",
    "- The loop checks the condition before executing the block of code.\n",
    "- If the condition is True, the code inside the loop will be executed.\n",
    "- After each iteration, the condition is re-evaluated.\n",
    "- The loop continues until the condition becomes False, at which point the loop exits."
   ]
  },
  {
   "cell_type": "code",
   "execution_count": 51,
   "metadata": {},
   "outputs": [
    {
     "name": "stdout",
     "output_type": "stream",
     "text": [
      "1\n",
      "2\n",
      "3\n",
      "4\n",
      "5\n"
     ]
    }
   ],
   "source": [
    "# Example of a while loop\n",
    "count = 1\n",
    "while count <= 5:\n",
    "    print(count)\n",
    "    count += 1"
   ]
  },
  {
   "cell_type": "markdown",
   "metadata": {},
   "source": [
    "A for loop is used to iterate over a sequence (like a list, tuple, string, or range). Unlike the while loop, the for loop repeats a block of code a specific number of times or over the elements in a sequence.\n",
    "How it works:\n",
    "\n",
    "- The loop runs once for each element in the sequence.\n",
    "- The variable takes the value of each element in the sequence, one at a time, and the code block inside the loop is executed for each element."
   ]
  },
  {
   "cell_type": "code",
   "execution_count": null,
   "metadata": {},
   "outputs": [],
   "source": [
    "# Example for a loop\n",
    "numbers = [1,2,3,4,5]\n",
    "for num in numbers:\n",
    "    print(num)\n",
    "\n",
    "# Using range in for a loop\n",
    "for i in range(6):\n",
    "    print(i)\n",
    "\n",
    "# Looping over a string\n",
    "for letters in 'Python':\n",
    "    print(letters)\n",
    "\n",
    "# Terminating the loop with 'break'\n",
    "for i in range(1,10):\n",
    "    if i == 5:\n",
    "        break\n",
    "    print(i)\n",
    "\n",
    "# Skiping the rest of the current iteration and jumps to the next iteration\n",
    "for i in range(1,10):\n",
    "    if i == 6:\n",
    "        continue\n",
    "    print(i)\n"
   ]
  },
  {
   "cell_type": "code",
   "execution_count": 5,
   "metadata": {},
   "outputs": [
    {
     "name": "stdout",
     "output_type": "stream",
     "text": [
      "The colour is green\n",
      "Positive number\n"
     ]
    }
   ],
   "source": [
    "# Match-case statement is a way to do multiple conditions in a more easy way. In the following code you will find different examples:\n",
    "# Example 1: Identifying a colour\n",
    "def identify_colour(colour):\n",
    "    match  colour:\n",
    "        case 'red':\n",
    "            return 'The colour is red'\n",
    "        case 'blue':\n",
    "            return 'The colour is blue' \n",
    "        case 'green':\n",
    "            return 'The colour is green' \n",
    "        case _:\n",
    "            return 'Unknown' \n",
    "print(identify_colour('green'))\n",
    "\n",
    "# Example 2: Using an if inside a match-case to analyse a number\n",
    "def analyze_number(number):\n",
    "    match number:\n",
    "        case x if x > 0:\n",
    "            return 'Positive number'\n",
    "        case x if x < 0:\n",
    "            return 'Negative number'   \n",
    "        case 0:\n",
    "            return 'Number 0'     \n",
    "print(analyze_number(6))\n",
    "\n"
   ]
  }
 ],
 "metadata": {
  "kernelspec": {
   "display_name": "Python 3",
   "language": "python",
   "name": "python3"
  },
  "language_info": {
   "codemirror_mode": {
    "name": "ipython",
    "version": 3
   },
   "file_extension": ".py",
   "mimetype": "text/x-python",
   "name": "python",
   "nbconvert_exporter": "python",
   "pygments_lexer": "ipython3",
   "version": "3.12.4"
  }
 },
 "nbformat": 4,
 "nbformat_minor": 2
}
